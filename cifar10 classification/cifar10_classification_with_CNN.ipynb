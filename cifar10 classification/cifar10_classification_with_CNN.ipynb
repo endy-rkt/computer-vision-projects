{
  "cells": [
    {
      "cell_type": "code",
      "execution_count": 1,
      "metadata": {
        "id": "j0I1TGKibaz5"
      },
      "outputs": [],
      "source": [
        "import tensorflow as tf\n",
        "from tensorflow.keras import datasets,layers,models\n",
        "import matplotlib.pyplot as plt\n",
        "import numpy as np"
      ]
    },
    {
      "cell_type": "code",
      "execution_count": 2,
      "metadata": {
        "colab": {
          "base_uri": "https://localhost:8080/"
        },
        "id": "s8MMcwdObqNj",
        "outputId": "86c78e7e-3944-4e5b-991e-3fed2f883acc"
      },
      "outputs": [
        {
          "name": "stdout",
          "output_type": "stream",
          "text": [
            "Downloading data from https://www.cs.toronto.edu/~kriz/cifar-10-python.tar.gz\n",
            "170498071/170498071 [==============================] - 3s 0us/step\n"
          ]
        },
        {
          "data": {
            "text/plain": [
              "(50000, 32, 32, 3)"
            ]
          },
          "execution_count": 2,
          "metadata": {},
          "output_type": "execute_result"
        }
      ],
      "source": [
        "(X_train,Y_train),(X_test,Y_test)=datasets.cifar10.load_data()\n",
        "X_train.shape"
      ]
    },
    {
      "cell_type": "code",
      "execution_count": 7,
      "metadata": {
        "colab": {
          "base_uri": "https://localhost:8080/"
        },
        "id": "Ue1Ywjdwb5_5",
        "outputId": "ebf66d6d-91ea-46e8-c0ac-9621ba208352"
      },
      "outputs": [
        {
          "data": {
            "text/plain": [
              "(10000, 32, 32, 3)"
            ]
          },
          "execution_count": 7,
          "metadata": {},
          "output_type": "execute_result"
        }
      ],
      "source": [
        "X_test.shape"
      ]
    },
    {
      "cell_type": "code",
      "execution_count": 8,
      "metadata": {
        "colab": {
          "base_uri": "https://localhost:8080/"
        },
        "id": "ku5NLwLxedly",
        "outputId": "8aa1f4c3-c2e0-43a8-f659-e5ce25ab9dcc"
      },
      "outputs": [
        {
          "data": {
            "text/plain": [
              "array([[6],\n",
              "       [9],\n",
              "       [9],\n",
              "       [4],\n",
              "       [1],\n",
              "       [1],\n",
              "       [2]], dtype=uint8)"
            ]
          },
          "execution_count": 8,
          "metadata": {},
          "output_type": "execute_result"
        }
      ],
      "source": [
        "Y_train[:7]"
      ]
    },
    {
      "cell_type": "code",
      "execution_count": 9,
      "metadata": {
        "colab": {
          "base_uri": "https://localhost:8080/"
        },
        "id": "LRXYXVjCfHTN",
        "outputId": "5a71285f-3020-43ac-9e34-8582cc80e3b4"
      },
      "outputs": [
        {
          "data": {
            "text/plain": [
              "array([6, 9, 9, 4, 1, 1, 2], dtype=uint8)"
            ]
          },
          "execution_count": 9,
          "metadata": {},
          "output_type": "execute_result"
        }
      ],
      "source": [
        "Y_train=Y_train.reshape(-1,)\n",
        "Y_train[:7]"
      ]
    },
    {
      "cell_type": "code",
      "execution_count": 17,
      "metadata": {
        "id": "7-QLPZCodV_w"
      },
      "outputs": [],
      "source": [
        "classes=[\"airplane\",\"automobile\",\"bird\",\"cat\",\"deer\",\"dog\",\"frog\",\"horse\",\"ship\",\"truck\"]"
      ]
    },
    {
      "cell_type": "code",
      "execution_count": 18,
      "metadata": {
        "id": "MOpZaoACcFv3"
      },
      "outputs": [],
      "source": [
        "def plot_sample(x,y,index):\n",
        "  plt.figure(figsize=(15,2))\n",
        "  plt.imshow(x[index])\n",
        "  plt.xlabel(classes[y[index]])"
      ]
    },
    {
      "cell_type": "code",
      "execution_count": 19,
      "metadata": {
        "colab": {
          "base_uri": "https://localhost:8080/",
          "height": 237
        },
        "id": "s_Bdjo4rcWng",
        "outputId": "10cc0c49-ae9c-4cff-d629-3842cba27d2c"
      },
      "outputs": [
        {
          "data": {
            "image/png": "[encoded data removed]",
            "text/plain": [
              "<Figure size 1500x200 with 1 Axes>"
            ]
          },
          "metadata": {},
          "output_type": "display_data"
        }
      ],
      "source": [
        "plot_sample(X_train,Y_train,5)"
      ]
    },
    {
      "cell_type": "code",
      "execution_count": 20,
      "metadata": {
        "id": "rUAaO1Dkfjsh"
      },
      "outputs": [],
      "source": [
        "#normalizing our data\n",
        "X_train=X_train/255\n",
        "X_test=X_test/255"
      ]
    },
    {
      "cell_type": "code",
      "execution_count": 24,
      "metadata": {
        "colab": {
          "base_uri": "https://localhost:8080/"
        },
        "id": "OO6x3PRbguSQ",
        "outputId": "7b3bc879-3eb7-4d66-9e96-972e3e0051a1"
      },
      "outputs": [
        {
          "name": "stdout",
          "output_type": "stream",
          "text": [
            "Epoch 1/5\n",
            "1563/1563 [==============================] - 163s 104ms/step - loss: 1.8112 - accuracy: 0.3567\n",
            "Epoch 2/5\n",
            "1563/1563 [==============================] - 163s 104ms/step - loss: 1.6208 - accuracy: 0.4277\n",
            "Epoch 3/5\n",
            "1563/1563 [==============================] - 170s 109ms/step - loss: 1.5386 - accuracy: 0.4564\n",
            "Epoch 4/5\n",
            "1563/1563 [==============================] - 163s 105ms/step - loss: 1.4787 - accuracy: 0.4785\n",
            "Epoch 5/5\n",
            "1563/1563 [==============================] - 162s 104ms/step - loss: 1.4286 - accuracy: 0.4964\n"
          ]
        },
        {
          "data": {
            "text/plain": [
              "<keras.callbacks.History at 0x7fb0b0478e80>"
            ]
          },
          "execution_count": 24,
          "metadata": {},
          "output_type": "execute_result"
        }
      ],
      "source": [
        "#creating ann model\n",
        "ann=models.Sequential([\n",
        "    layers.Flatten(input_shape=(32,32,3)),\n",
        "    layers.Dense(3000,activation=\"relu\"),\n",
        "    layers.Dense(1000,activation=\"relu\"),\n",
        "    layers.Dense(10,activation=\"sigmoid\"),\n",
        "])\n",
        "\n",
        "ann.compile(\n",
        "    optimizer=\"SGD\",\n",
        "    loss=\"sparse_categorical_crossentropy\",\n",
        "    metrics=[\"accuracy\"]\n",
        ")\n",
        "\n",
        "ann.fit(X_train,Y_train,epochs=5)"
      ]
    },
    {
      "cell_type": "code",
      "execution_count": 25,
      "metadata": {
        "colab": {
          "base_uri": "https://localhost:8080/"
        },
        "id": "3ZyVe0QzhzBc",
        "outputId": "55d594ad-6245-4e87-9703-eb6816373139"
      },
      "outputs": [
        {
          "name": "stdout",
          "output_type": "stream",
          "text": [
            "313/313 [==============================] - 17s 51ms/step - loss: 1.6428 - accuracy: 0.4081\n"
          ]
        },
        {
          "data": {
            "text/plain": [
              "[1.6427576541900635, 0.4081000089645386]"
            ]
          },
          "execution_count": 25,
          "metadata": {},
          "output_type": "execute_result"
        }
      ],
      "source": [
        "ann.evaluate(X_test,Y_test)"
      ]
    },
    {
      "cell_type": "code",
      "execution_count": 26,
      "metadata": {
        "id": "r0WZHPDOopNd"
      },
      "outputs": [],
      "source": [
        "from sklearn.metrics import confusion_matrix, classification_report"
      ]
    },
    {
      "cell_type": "code",
      "execution_count": 28,
      "metadata": {
        "colab": {
          "base_uri": "https://localhost:8080/"
        },
        "id": "vQ0U1fGaoyK3",
        "outputId": "10362097-37e0-4a43-e2a4-7e04fad3b9d2"
      },
      "outputs": [
        {
          "name": "stdout",
          "output_type": "stream",
          "text": [
            "313/313 [==============================] - 11s 34ms/step\n",
            "classification report: \n",
            "               precision    recall  f1-score   support\n",
            "\n",
            "           0       0.59      0.46      0.52      1000\n",
            "           1       0.76      0.38      0.51      1000\n",
            "           2       0.47      0.15      0.22      1000\n",
            "           3       0.45      0.06      0.10      1000\n",
            "           4       0.40      0.36      0.38      1000\n",
            "           5       0.37      0.38      0.38      1000\n",
            "           6       0.60      0.33      0.43      1000\n",
            "           7       0.22      0.89      0.36      1000\n",
            "           8       0.64      0.59      0.61      1000\n",
            "           9       0.56      0.49      0.52      1000\n",
            "\n",
            "    accuracy                           0.41     10000\n",
            "   macro avg       0.51      0.41      0.40     10000\n",
            "weighted avg       0.51      0.41      0.40     10000\n",
            "\n"
          ]
        }
      ],
      "source": [
        "Y_pred=ann.predict(X_test)\n",
        "Y_pred_classes=[np.argmax(element) for element in Y_pred]\n",
        "\n",
        "print(f\"classification report: \\n {classification_report(Y_test,Y_pred_classes)}\")"
      ]
    },
    {
      "cell_type": "code",
      "execution_count": 30,
      "metadata": {
        "id": "IadlCvvnpXMu"
      },
      "outputs": [],
      "source": [
        "#creating cnn model\n",
        "cnn=models.Sequential([\n",
        "    #cnn\n",
        "    layers.Conv2D(filters=32,kernel_size=(3,3),activation=\"relu\",input_shape=(32,32,3)),\n",
        "    layers.MaxPooling2D((2,2)),\n",
        "\n",
        "    layers.Conv2D(filters=32,kernel_size=(3,3),activation=\"relu\"),\n",
        "    layers.MaxPooling2D((2,2)),\n",
        "\n",
        "    #dense\n",
        "    layers.Flatten(),\n",
        "    layers.Dense(64,activation=\"relu\"),\n",
        "    layers.Dense(10,activation=\"softmax\"),\n",
        "])"
      ]
    },
    {
      "cell_type": "code",
      "execution_count": 31,
      "metadata": {
        "id": "yk6DFfo-swJL"
      },
      "outputs": [],
      "source": [
        "cnn.compile(\n",
        "    optimizer=\"adam\",\n",
        "    loss=\"sparse_categorical_crossentropy\",\n",
        "    metrics=[\"accuracy\"]\n",
        ")"
      ]
    },
    {
      "cell_type": "code",
      "execution_count": 33,
      "metadata": {
        "colab": {
          "base_uri": "https://localhost:8080/"
        },
        "id": "ZTqVpOPktVTh",
        "outputId": "c04b2f7b-e6d9-4022-a1f6-5d409a0a9ca0"
      },
      "outputs": [
        {
          "name": "stdout",
          "output_type": "stream",
          "text": [
            "Epoch 1/10\n",
            "1563/1563 [==============================] - 64s 40ms/step - loss: 1.5223 - accuracy: 0.4519\n",
            "Epoch 2/10\n",
            "1563/1563 [==============================] - 77s 50ms/step - loss: 1.1760 - accuracy: 0.5883\n",
            "Epoch 3/10\n",
            "1563/1563 [==============================] - 64s 41ms/step - loss: 1.0609 - accuracy: 0.6302\n",
            "Epoch 4/10\n",
            "1563/1563 [==============================] - 63s 40ms/step - loss: 0.9930 - accuracy: 0.6514\n",
            "Epoch 5/10\n",
            "1563/1563 [==============================] - 62s 40ms/step - loss: 0.9373 - accuracy: 0.6724\n",
            "Epoch 6/10\n",
            "1563/1563 [==============================] - 63s 41ms/step - loss: 0.8941 - accuracy: 0.6889\n",
            "Epoch 7/10\n",
            "1563/1563 [==============================] - 64s 41ms/step - loss: 0.8561 - accuracy: 0.7025\n",
            "Epoch 8/10\n",
            "1563/1563 [==============================] - 65s 41ms/step - loss: 0.8202 - accuracy: 0.7136\n",
            "Epoch 9/10\n",
            "1563/1563 [==============================] - 62s 39ms/step - loss: 0.7869 - accuracy: 0.7259\n",
            "Epoch 10/10\n",
            "1563/1563 [==============================] - 66s 42ms/step - loss: 0.7612 - accuracy: 0.7348\n"
          ]
        },
        {
          "data": {
            "text/plain": [
              "<keras.callbacks.History at 0x7fb09a86ded0>"
            ]
          },
          "execution_count": 33,
          "metadata": {},
          "output_type": "execute_result"
        }
      ],
      "source": [
        "cnn.fit(X_train,Y_train,epochs=10)"
      ]
    },
    {
      "cell_type": "code",
      "execution_count": 34,
      "metadata": {
        "colab": {
          "base_uri": "https://localhost:8080/"
        },
        "id": "wzZ1Yhh0tcO1",
        "outputId": "54743cdf-1741-4ad5-f498-54a21ea5c9c9"
      },
      "outputs": [
        {
          "name": "stdout",
          "output_type": "stream",
          "text": [
            "313/313 [==============================] - 5s 15ms/step - loss: 0.9437 - accuracy: 0.6845\n"
          ]
        },
        {
          "data": {
            "text/plain": [
              "[0.9437099695205688, 0.684499979019165]"
            ]
          },
          "execution_count": 34,
          "metadata": {},
          "output_type": "execute_result"
        }
      ],
      "source": [
        "cnn.evaluate(X_test,Y_test)"
      ]
    },
    {
      "cell_type": "code",
      "execution_count": 41,
      "metadata": {
        "colab": {
          "base_uri": "https://localhost:8080/"
        },
        "id": "FWPlMi6JwNvW",
        "outputId": "b642897e-935c-4abc-864e-f604b4cf7d05"
      },
      "outputs": [
        {
          "data": {
            "text/plain": [
              "array([3, 8, 8, 0, 6], dtype=uint8)"
            ]
          },
          "execution_count": 41,
          "metadata": {},
          "output_type": "execute_result"
        }
      ],
      "source": [
        "Y_test=Y_test.reshape(-1,)\n",
        "Y_test[:5]"
      ]
    },
    {
      "cell_type": "code",
      "execution_count": 36,
      "metadata": {
        "colab": {
          "base_uri": "https://localhost:8080/",
          "height": 452
        },
        "id": "aGWdr4itwZ4L",
        "outputId": "90961af0-2b62-44a9-f971-26d2f912a207"
      },
      "outputs": [
        {
          "ename": "TypeError",
          "evalue": "ignored",
          "output_type": "error",
          "traceback": [
            "\u001b[0;31m---------------------------------------------------------------------------\u001b[0m",
            "\u001b[0;31mTypeError\u001b[0m                                 Traceback (most recent call last)",
            "\u001b[0;32m<ipython-input-36-460642c26fd3>\u001b[0m in \u001b[0;36m<cell line: 1>\u001b[0;34m()\u001b[0m\n\u001b[0;32m----> 1\u001b[0;31m \u001b[0mplot_sample\u001b[0m\u001b[0;34m(\u001b[0m\u001b[0mX_test\u001b[0m\u001b[0;34m,\u001b[0m\u001b[0mY_test\u001b[0m\u001b[0;34m,\u001b[0m\u001b[0;36m1\u001b[0m\u001b[0;34m)\u001b[0m\u001b[0;34m\u001b[0m\u001b[0;34m\u001b[0m\u001b[0m\n\u001b[0m",
            "\u001b[0;32m<ipython-input-18-7c2ae10363fd>\u001b[0m in \u001b[0;36mplot_sample\u001b[0;34m(x, y, index)\u001b[0m\n\u001b[1;32m      2\u001b[0m   \u001b[0mplt\u001b[0m\u001b[0;34m.\u001b[0m\u001b[0mfigure\u001b[0m\u001b[0;34m(\u001b[0m\u001b[0mfigsize\u001b[0m\u001b[0;34m=\u001b[0m\u001b[0;34m(\u001b[0m\u001b[0;36m15\u001b[0m\u001b[0;34m,\u001b[0m\u001b[0;36m2\u001b[0m\u001b[0;34m)\u001b[0m\u001b[0;34m)\u001b[0m\u001b[0;34m\u001b[0m\u001b[0;34m\u001b[0m\u001b[0m\n\u001b[1;32m      3\u001b[0m   \u001b[0mplt\u001b[0m\u001b[0;34m.\u001b[0m\u001b[0mimshow\u001b[0m\u001b[0;34m(\u001b[0m\u001b[0mx\u001b[0m\u001b[0;34m[\u001b[0m\u001b[0mindex\u001b[0m\u001b[0;34m]\u001b[0m\u001b[0;34m)\u001b[0m\u001b[0;34m\u001b[0m\u001b[0;34m\u001b[0m\u001b[0m\n\u001b[0;32m----> 4\u001b[0;31m   \u001b[0mplt\u001b[0m\u001b[0;34m.\u001b[0m\u001b[0mxlabel\u001b[0m\u001b[0;34m(\u001b[0m\u001b[0mclasses\u001b[0m\u001b[0;34m[\u001b[0m\u001b[0my\u001b[0m\u001b[0;34m[\u001b[0m\u001b[0mindex\u001b[0m\u001b[0;34m]\u001b[0m\u001b[0;34m]\u001b[0m\u001b[0;34m)\u001b[0m\u001b[0;34m\u001b[0m\u001b[0;34m\u001b[0m\u001b[0m\n\u001b[0m",
            "\u001b[0;31mTypeError\u001b[0m: only integer scalar arrays can be converted to a scalar index"
          ]
        },
        {
          "data": {
            "image/png": "[encoded data removed]",
            "text/plain": [
              "<Figure size 1500x200 with 1 Axes>"
            ]
          },
          "metadata": {},
          "output_type": "display_data"
        }
      ],
      "source": [
        "plot_sample(X_test,Y_test,1)"
      ]
    },
    {
      "cell_type": "code",
      "execution_count": 37,
      "metadata": {
        "colab": {
          "base_uri": "https://localhost:8080/"
        },
        "id": "ctYNbaouwruG",
        "outputId": "cae07769-0a69-4052-e901-93ff5eaf5f54"
      },
      "outputs": [
        {
          "name": "stdout",
          "output_type": "stream",
          "text": [
            "313/313 [==============================] - 8s 24ms/step\n"
          ]
        },
        {
          "data": {
            "text/plain": [
              "array([[7.4773753e-04, 6.4043226e-05, 1.9264214e-02, 6.8075693e-01,\n",
              "        2.9924125e-03, 2.6657084e-01, 1.5142972e-02, 3.8162681e-05,\n",
              "        1.4375104e-02, 4.7622667e-05],\n",
              "       [1.3848609e-01, 7.5364524e-01, 7.7152063e-06, 6.0570283e-06,\n",
              "        1.4218165e-05, 8.3916252e-09, 1.6099563e-08, 2.7774621e-07,\n",
              "        9.3826346e-02, 1.4014061e-02],\n",
              "       [3.3095397e-02, 3.2008920e-02, 1.6905449e-03, 5.0531202e-03,\n",
              "        1.7457288e-03, 2.6215776e-04, 6.3986774e-04, 1.4883500e-03,\n",
              "        9.2027712e-01, 3.7387507e-03],\n",
              "       [9.6572059e-01, 6.8117469e-03, 4.1891620e-03, 2.1508482e-04,\n",
              "        9.7946590e-04, 7.5609341e-06, 8.6456646e-05, 7.6392666e-05,\n",
              "        1.9904248e-02, 2.0091098e-03],\n",
              "       [1.3002801e-06, 7.4610762e-06, 1.6271653e-02, 1.9160683e-01,\n",
              "        4.4904056e-01, 1.1862932e-02, 3.3053663e-01, 2.1771142e-05,\n",
              "        6.4871594e-04, 2.2021857e-06],\n",
              "       [6.4672263e-06, 9.0883514e-06, 1.0890713e-02, 9.1421660e-03,\n",
              "        1.3640240e-02, 6.1839377e-03, 9.5863277e-01, 1.4446817e-03,\n",
              "        5.1621591e-06, 4.4817145e-05],\n",
              "       [5.0539053e-03, 2.3608189e-02, 3.6931217e-03, 4.8908886e-01,\n",
              "        1.8365648e-05, 2.0554847e-01, 2.1814307e-02, 5.0826400e-04,\n",
              "        4.7542676e-04, 2.5019103e-01]], dtype=float32)"
            ]
          },
          "execution_count": 37,
          "metadata": {},
          "output_type": "execute_result"
        }
      ],
      "source": [
        "Y_pred=cnn.predict(X_test)\n",
        "Y_pred[:7]"
      ]
    },
    {
      "cell_type": "code",
      "execution_count": 38,
      "metadata": {
        "colab": {
          "base_uri": "https://localhost:8080/"
        },
        "id": "a2LZjalwxcLx",
        "outputId": "5a0c3a14-1ca6-4052-dea4-2881fd451411"
      },
      "outputs": [
        {
          "data": {
            "text/plain": [
              "[3, 1, 8, 0, 4, 6, 3]"
            ]
          },
          "execution_count": 38,
          "metadata": {},
          "output_type": "execute_result"
        }
      ],
      "source": [
        "Y_classes=[np.argmax(element) for element in Y_pred]\n",
        "Y_classes[:7]"
      ]
    },
    {
      "cell_type": "code",
      "execution_count": 42,
      "metadata": {
        "colab": {
          "base_uri": "https://localhost:8080/"
        },
        "id": "NimUq6J_xtUP",
        "outputId": "17742203-f672-41c1-c0b0-4370e8f3330b"
      },
      "outputs": [
        {
          "data": {
            "text/plain": [
              "array([3, 8, 8, 0, 6, 6, 1], dtype=uint8)"
            ]
          },
          "execution_count": 42,
          "metadata": {},
          "output_type": "execute_result"
        }
      ],
      "source": [
        "Y_test[:7]"
      ]
    },
    {
      "cell_type": "code",
      "execution_count": 43,
      "metadata": {
        "colab": {
          "base_uri": "https://localhost:8080/"
        },
        "id": "w4g0H-K4xzPt",
        "outputId": "01e556e0-ea8a-4693-a175-170b25153890"
      },
      "outputs": [
        {
          "name": "stdout",
          "output_type": "stream",
          "text": [
            "classification report: \n",
            "               precision    recall  f1-score   support\n",
            "\n",
            "           0       0.73      0.74      0.74      1000\n",
            "           1       0.81      0.80      0.80      1000\n",
            "           2       0.56      0.60      0.58      1000\n",
            "           3       0.49      0.52      0.51      1000\n",
            "           4       0.66      0.56      0.60      1000\n",
            "           5       0.64      0.54      0.59      1000\n",
            "           6       0.68      0.81      0.74      1000\n",
            "           7       0.69      0.76      0.72      1000\n",
            "           8       0.79      0.78      0.78      1000\n",
            "           9       0.81      0.74      0.77      1000\n",
            "\n",
            "    accuracy                           0.68     10000\n",
            "   macro avg       0.69      0.68      0.68     10000\n",
            "weighted avg       0.69      0.68      0.68     10000\n",
            "\n"
          ]
        }
      ],
      "source": [
        "print(f\"classification report: \\n {classification_report(Y_test,Y_classes)}\")"
      ]
    }
  ],
  "metadata": {
    "colab": {
      "gpuType": "T4",
      "provenance": []
    },
    "kernelspec": {
      "display_name": "Python 3",
      "name": "python3"
    },
    "language_info": {
      "name": "python"
    }
  },
  "nbformat": 4,
  "nbformat_minor": 0
}
